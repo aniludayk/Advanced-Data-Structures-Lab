{
  "nbformat": 4,
  "nbformat_minor": 0,
  "metadata": {
    "colab": {
      "provenance": [],
      "authorship_tag": "ABX9TyP6j8uiGutP8zpvSvmZVOYG",
      "include_colab_link": true
    },
    "kernelspec": {
      "name": "python3",
      "display_name": "Python 3"
    },
    "language_info": {
      "name": "python"
    }
  },
  "cells": [
    {
      "cell_type": "markdown",
      "metadata": {
        "id": "view-in-github",
        "colab_type": "text"
      },
      "source": [
        "<a href=\"https://colab.research.google.com/github/aniludayk/Advanced-Data-Structures-Lab/blob/main/2025007855_ADS_Lab_.ipynb\" target=\"_parent\"><img src=\"https://colab.research.google.com/assets/colab-badge.svg\" alt=\"Open In Colab\"/></a>"
      ]
    },
    {
      "cell_type": "markdown",
      "source": [
        "# ADS Lab Experiments\n"
      ],
      "metadata": {
        "id": "nmFAxzo_Tk-a"
      }
    },
    {
      "cell_type": "markdown",
      "source": [
        "## Exp-1 Dictionaries"
      ],
      "metadata": {
        "id": "k7hC6va5UCQ2"
      }
    },
    {
      "cell_type": "code",
      "source": [
        "my_dict = {\"apple\":10,\"banana\":30,\"orange\":33}\n",
        "print(my_dict)\n",
        "print(my_dict[\"apple\"])\n",
        "my_dict[\"apple\"] = 50\n",
        "print(my_dict)\n",
        "my_dict[\"papaya\"]=25\n",
        "print(my_dict)\n",
        "del my_dict[\"banana\"]\n",
        "print(my_dict)\n",
        "my_dict.pop(\"apple\")\n",
        "print(my_dict)\n",
        "my_dict.clear()\n",
        "print(my_dict)"
      ],
      "metadata": {
        "colab": {
          "base_uri": "https://localhost:8080/"
        },
        "id": "xjB3LpszT5as",
        "outputId": "983f657c-8496-4b6e-829a-74b0261300ed"
      },
      "execution_count": 1,
      "outputs": [
        {
          "output_type": "stream",
          "name": "stdout",
          "text": [
            "{'apple': 10, 'banana': 30, 'orange': 33}\n",
            "10\n",
            "{'apple': 50, 'banana': 30, 'orange': 33}\n",
            "{'apple': 50, 'banana': 30, 'orange': 33, 'papaya': 25}\n",
            "{'apple': 50, 'orange': 33, 'papaya': 25}\n",
            "{'orange': 33, 'papaya': 25}\n",
            "{}\n"
          ]
        }
      ]
    },
    {
      "cell_type": "markdown",
      "source": [
        "## Exp-2 Implementation of dictionaries using Hashing"
      ],
      "metadata": {
        "id": "ngeVHt1oUhFk"
      }
    },
    {
      "cell_type": "code",
      "source": [
        "\n",
        "# 2.implement Dictionaries using Hashing\n",
        "\n",
        "class Hashmap:\n",
        "  def __init__(self,size):\n",
        "    self.size = size\n",
        "    self.table = [None] * size\n",
        "  def hash_function(self,key):\n",
        "    return sum(ord(ch)for ch in key) % self.size\n",
        "  def put(self,key,value):\n",
        "    index = self.hash_function(key)\n",
        "    start_index = index\n",
        "    while self.table[index] is not None and self.table[index][0] != key:\n",
        "      index = (index + 1) % self.size\n",
        "      if index == start_index:\n",
        "        print(\"Hashmap is full! cannot insert:\", key)\n",
        "        return\n",
        "    self.table[index] = (key,value)\n",
        "  def get(self,key):\n",
        "    index = self.hash_function(key)\n",
        "    start_index = index\n",
        "    while self.table[index] is not None:\n",
        "      if self.table[index][0] == key:\n",
        "        return self.table[index][1]\n",
        "      index = (index + 1) % self.size\n",
        "      if index == start_index:\n",
        "        break\n",
        "    return None\n",
        "  def remove(self,key):\n",
        "    index = self.hash_function(key)\n",
        "    start_index = index\n",
        "    while self.table[index] is not None:\n",
        "      if self.table[index][0] == key:\n",
        "        print(f\"Removing:{self.table[index]}\")\n",
        "        self.table[index] = None\n",
        "        return\n",
        "      index = (index + 1) % self.size\n",
        "      if index == start_index:\n",
        "        break\n",
        "      print(f\"key{key} not found\")\n",
        "  def display(self):\n",
        "    print(\"\\n Hash Table:\")\n",
        "    for i,val in enumerate(self.table):\n",
        "        print(f\"{i}:{val}\")\n",
        "h=Hashmap(7)\n",
        "h.put(\"apple\",100)\n",
        "h.put(\"banana\",200)\n",
        "h.put(\"orange\",300)\n",
        "h.put(\"mango\",400)\n",
        "h.put(\"grapes\",500)\n",
        "h.display()\n",
        "print(\"\\n search for 'banana':\",h.get(\"banana\"))\n",
        "h.remove(\"orange\")\n",
        "h.display()"
      ],
      "metadata": {
        "colab": {
          "base_uri": "https://localhost:8080/"
        },
        "id": "vZu3Vgs-UmzF",
        "outputId": "c92d058e-a437-44ce-d497-c7b743540fa8"
      },
      "execution_count": 2,
      "outputs": [
        {
          "output_type": "stream",
          "name": "stdout",
          "text": [
            "\n",
            " Hash Table:\n",
            "0:('banana', 200)\n",
            "1:('mango', 400)\n",
            "2:('grapes', 500)\n",
            "3:None\n",
            "4:None\n",
            "5:('apple', 100)\n",
            "6:('orange', 300)\n",
            "\n",
            " search for 'banana': 200\n",
            "Removing:('orange', 300)\n",
            "\n",
            " Hash Table:\n",
            "0:('banana', 200)\n",
            "1:('mango', 400)\n",
            "2:('grapes', 500)\n",
            "3:None\n",
            "4:None\n",
            "5:('apple', 100)\n",
            "6:None\n"
          ]
        }
      ]
    },
    {
      "cell_type": "code",
      "source": [],
      "metadata": {
        "id": "d3dVoMJzU7Vo"
      },
      "execution_count": null,
      "outputs": []
    },
    {
      "cell_type": "code",
      "source": [],
      "metadata": {
        "id": "8GRKvt-KU7Z_"
      },
      "execution_count": null,
      "outputs": []
    },
    {
      "cell_type": "markdown",
      "source": [
        "## Exp-3 Linear Probing"
      ],
      "metadata": {
        "id": "abqr31GdVMaT"
      }
    },
    {
      "cell_type": "code",
      "source": [
        "class LinearProbing:\n",
        "  def __init__(self,size):\n",
        "    self.size = size\n",
        "    self.table = [None] * size\n",
        "\n",
        "  def hash_function(self,key):\n",
        "    return key % self.size\n",
        "\n",
        "  def insert(self,key):\n",
        "    index = self.hash_function(key)\n",
        "    start_index = index\n",
        "    while self.table[index] is not None:\n",
        "      index = (index + 1) % self.size\n",
        "      if index == start_index:\n",
        "        print(f\"Hashtable is full, cannot insert{key}\")\n",
        "        return\n",
        "    self.table[index] = key\n",
        "\n",
        "  def display(self):\n",
        "    print(self.table)\n",
        "if __name__ == \"__main__\":\n",
        "  h = LinearProbing(7)\n",
        "  keys = (10,20,15,7,32,24,59)\n",
        "  for key in keys:\n",
        "    h.insert(key)\n",
        "  print(\"Linear Probing Hashtable:\")\n",
        "  h.display()"
      ],
      "metadata": {
        "colab": {
          "base_uri": "https://localhost:8080/"
        },
        "id": "aLaojDJUVRw2",
        "outputId": "0cad1240-a989-4c61-c790-ac5a0987a318"
      },
      "execution_count": 3,
      "outputs": [
        {
          "output_type": "stream",
          "name": "stdout",
          "text": [
            "Linear Probing Hashtable:\n",
            "[7, 15, 59, 10, 32, 24, 20]\n"
          ]
        }
      ]
    },
    {
      "cell_type": "markdown",
      "source": [
        "## Exp-4 Quadratic probing"
      ],
      "metadata": {
        "id": "S-xFRkFkVfjt"
      }
    },
    {
      "cell_type": "code",
      "source": [
        "class QuadraticProbing:\n",
        "    def __init__(self, size):\n",
        "        self.size = size\n",
        "        self.table = [None] * size\n",
        "\n",
        "    def hash_function(self, key):\n",
        "        return key % self.size\n",
        "\n",
        "    def insert(self, key):\n",
        "        index = self.hash_function(key)\n",
        "        i = 0\n",
        "        # i counts how many times we've probed; start with 0², then 1², etc.\n",
        "        while self.table[(index + i*i) % self.size] is not None:\n",
        "            i += 1\n",
        "            if i == self.size:\n",
        "                print(f\"Hashtable is full, cannot insert {key}\")\n",
        "                return\n",
        "        self.table[(index + i*i) % self.size] = key\n",
        "\n",
        "    def display(self):\n",
        "        print(self.table)\n",
        "\n",
        "\n",
        "if __name__ == \"__main__\":\n",
        "    h = QuadraticProbing(7)\n",
        "    keys = (10, 20, 15, 7, 32, 24, 59)\n",
        "    for key in keys:\n",
        "        h.insert(key)\n",
        "        print(\"After inserting\", key, \":\")\n",
        "        h.display()"
      ],
      "metadata": {
        "colab": {
          "base_uri": "https://localhost:8080/"
        },
        "id": "owBMJUk-VluP",
        "outputId": "d52af770-40ba-45b8-e756-8fa118cfb939"
      },
      "execution_count": 4,
      "outputs": [
        {
          "output_type": "stream",
          "name": "stdout",
          "text": [
            "After inserting 10 :\n",
            "[None, None, None, 10, None, None, None]\n",
            "After inserting 20 :\n",
            "[None, None, None, 10, None, None, 20]\n",
            "After inserting 15 :\n",
            "[None, 15, None, 10, None, None, 20]\n",
            "After inserting 7 :\n",
            "[7, 15, None, 10, None, None, 20]\n",
            "After inserting 32 :\n",
            "[7, 15, None, 10, 32, None, 20]\n",
            "After inserting 24 :\n",
            "[7, 15, None, 10, 32, 24, 20]\n",
            "Hashtable is full, cannot insert 59\n",
            "After inserting 59 :\n",
            "[7, 15, None, 10, 32, 24, 20]\n"
          ]
        }
      ]
    },
    {
      "cell_type": "markdown",
      "source": [
        "## Exp-5 Double Hashing"
      ],
      "metadata": {
        "id": "7aVvdY2wV1FO"
      }
    },
    {
      "cell_type": "code",
      "source": [
        "  # 5.Implement Double Hashing\n",
        "\n",
        "class DoubleHashing:\n",
        "    def __init__(self, size):\n",
        "        self.size = size\n",
        "        self.table = [None] * size\n",
        "        # Choose a prime < size for second hash\n",
        "        self.R = self._find_prime_less_than(size)\n",
        "    def _find_prime_less_than(self, n):\n",
        "        \"\"\"Find the largest prime less than n (used for second hash).\"\"\"\n",
        "        for num in range(n-1, 1, -1):\n",
        "            if all(num % p for p in range(2, int(num**0.5)+1)):\n",
        "                return num\n",
        "        return 1   # Fallback (should not happen for n>2)\n",
        "\n",
        "    def hash1(self, key):\n",
        "        return key % self.size\n",
        "\n",
        "    def hash2(self, key):\n",
        "        # Step size must be non-zero and relatively prime to size\n",
        "        return self.R - (key % self.R)\n",
        "\n",
        "    def insert(self, key):\n",
        "        index = self.hash1(key)\n",
        "        step = self.hash2(key)\n",
        "        start_index = index\n",
        "\n",
        "        i = 0\n",
        "        while self.table[index] is not None:\n",
        "            i += 1\n",
        "            index = (start_index + i * step) % self.size\n",
        "            if i == self.size:  # Table is full\n",
        "                print(f\"Hashtable is full, cannot insert {key}\")\n",
        "                return\n",
        "        self.table[index] = key\n",
        "\n",
        "    def display(self):\n",
        "        print(self.table)\n",
        "if __name__ == \"__main__\":\n",
        "    h = DoubleHashing(7)\n",
        "    keys = (10, 20, 15, 7, 32, 24, 59)\n",
        "    for key in keys:\n",
        "        h.insert(key)\n",
        "        print(\"Double Hashing Hashtable:\")\n",
        "        h.display()"
      ],
      "metadata": {
        "colab": {
          "base_uri": "https://localhost:8080/"
        },
        "id": "ILPbjxJUV6L8",
        "outputId": "f13d2b6e-66d3-49ae-9cd1-d0f3afc4ee2a"
      },
      "execution_count": 5,
      "outputs": [
        {
          "output_type": "stream",
          "name": "stdout",
          "text": [
            "Double Hashing Hashtable:\n",
            "[None, None, None, 10, None, None, None]\n",
            "Double Hashing Hashtable:\n",
            "[None, None, None, 10, None, None, 20]\n",
            "Double Hashing Hashtable:\n",
            "[None, 15, None, 10, None, None, 20]\n",
            "Double Hashing Hashtable:\n",
            "[7, 15, None, 10, None, None, 20]\n",
            "Double Hashing Hashtable:\n",
            "[7, 15, None, 10, 32, None, 20]\n",
            "Double Hashing Hashtable:\n",
            "[7, 15, None, 10, 32, 24, 20]\n",
            "Double Hashing Hashtable:\n",
            "[7, 15, 59, 10, 32, 24, 20]\n"
          ]
        }
      ]
    },
    {
      "cell_type": "markdown",
      "source": [
        "## Exp-6 Skip List"
      ],
      "metadata": {
        "id": "YFsNtPMkWMD0"
      }
    },
    {
      "cell_type": "code",
      "source": [
        "class Node:\n",
        "    def __init__(self, value, level):\n",
        "        self.value = value\n",
        "        self.forward = [None] * (level + 1)\n",
        "\n",
        "class SkipList:\n",
        "    def __init__(self, max_level=4):\n",
        "        self.max_level = max_level\n",
        "        self.header = Node(-1, max_level)\n",
        "        self.level = 0\n",
        "\n",
        "    def get_level_for_value(self, value):\n",
        "        if value < 30: return 1\n",
        "        elif value < 50: return 2\n",
        "        elif value < 60: return 3\n",
        "        else: return 4\n",
        "\n",
        "    def insert(self, value):\n",
        "        update = [None] * (self.max_level + 1)\n",
        "        current = self.header\n",
        "        for i in range(self.level, -1, -1):\n",
        "            while current.forward[i] and current.forward[i].value < value:\n",
        "                current = current.forward[i]\n",
        "            update[i] = current\n",
        "\n",
        "        node_level = self.get_level_for_value(value)\n",
        "        if node_level > self.level:\n",
        "            for i in range(self.level + 1, node_level + 1):\n",
        "                update[i] = self.header\n",
        "            self.level = node_level\n",
        "\n",
        "        new_node = Node(value, node_level)\n",
        "        for i in range(node_level + 1):\n",
        "            new_node.forward[i] = update[i].forward[i]\n",
        "            update[i].forward[i] = new_node\n",
        "\n",
        "    def search(self, value):\n",
        "        current = self.header\n",
        "        for i in range(self.level, -1, -1):\n",
        "            while current.forward[i] and current.forward[i].value < value:\n",
        "                current = current.forward[i]\n",
        "        current = current.forward[0]\n",
        "        return current and current.value == value\n",
        "\n",
        "    def delete(self, value):\n",
        "        update = [None] * (self.max_level + 1)\n",
        "        current = self.header\n",
        "        for i in range(self.level, -1, -1):\n",
        "            while current.forward[i] and current.forward[i].value < value:\n",
        "                current = current.forward[i]\n",
        "            update[i] = current\n",
        "        current = current.forward[0]\n",
        "        if current and current.value == value:\n",
        "            for i in range(self.level + 1):\n",
        "                if update[i].forward[i] == current:\n",
        "                    update[i].forward[i] = current.forward[i]\n",
        "            while self.level > 0 and self.header.forward[self.level] is None:\n",
        "                self.level -= 1\n",
        "\n",
        "    def display(self):\n",
        "        print(\"\\nSkip List:\")\n",
        "        for i in range(self.level, -1, -1):\n",
        "            cur = self.header.forward[i]\n",
        "            print(f\"Level {i}:\", end=\" \")\n",
        "            while cur:\n",
        "                print(cur.value, end=\" -> \")\n",
        "                cur = cur.forward[i]\n",
        "            print(\"None\")\n",
        "# --- demo ---\n",
        "s1 = SkipList()\n",
        "values = [20, 30, 35, 40, 50, 55, 60, 75]\n",
        "for v in values:\n",
        "    s1.insert(v)\n",
        "s1.display()\n",
        "print(\"Search 35:\", s1.search(35))\n",
        "print(\"Search 45:\", s1.search(45))\n",
        "s1.delete(35)\n",
        "s1.delete(45)\n",
        "s1.delete(75)\n",
        "s1.display()"
      ],
      "metadata": {
        "colab": {
          "base_uri": "https://localhost:8080/"
        },
        "id": "Thv2nGUTWSzt",
        "outputId": "22b416e2-abad-437f-9150-32b4b85ef12c"
      },
      "execution_count": 6,
      "outputs": [
        {
          "output_type": "stream",
          "name": "stdout",
          "text": [
            "\n",
            "Skip List:\n",
            "Level 4: 60 -> 75 -> None\n",
            "Level 3: 50 -> 55 -> 60 -> 75 -> None\n",
            "Level 2: 30 -> 35 -> 40 -> 50 -> 55 -> 60 -> 75 -> None\n",
            "Level 1: 20 -> 30 -> 35 -> 40 -> 50 -> 55 -> 60 -> 75 -> None\n",
            "Level 0: 20 -> 30 -> 35 -> 40 -> 50 -> 55 -> 60 -> 75 -> None\n",
            "Search 35: True\n",
            "Search 45: False\n",
            "\n",
            "Skip List:\n",
            "Level 4: 60 -> None\n",
            "Level 3: 50 -> 55 -> 60 -> None\n",
            "Level 2: 30 -> 40 -> 50 -> 55 -> 60 -> None\n",
            "Level 1: 20 -> 30 -> 40 -> 50 -> 55 -> 60 -> None\n",
            "Level 0: 20 -> 30 -> 40 -> 50 -> 55 -> 60 -> None\n"
          ]
        }
      ]
    }
  ]
}